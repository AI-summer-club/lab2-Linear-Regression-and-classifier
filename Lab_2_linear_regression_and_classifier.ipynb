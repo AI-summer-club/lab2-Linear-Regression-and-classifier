{
  "nbformat": 4,
  "nbformat_minor": 0,
  "metadata": {
    "colab": {
      "name": "AI Summer Camp: Linear Regression",
      "provenance": [],
      "authorship_tag": "ABX9TyMZcN3YYiukFgT3gBeJke6N"
    },
    "kernelspec": {
      "name": "python3",
      "display_name": "Python 3"
    },
    "language_info": {
      "name": "python"
    }
  },
  "cells": [
    {
      "cell_type": "markdown",
      "source": [
        "# AI Summer Camp: Linear Regression\n",
        "\n",
        "This notebook covers the theory and implementation of Linear Regression using the House Prices dataset."
      ],
      "metadata": {
        "id": "JQe4WKQwXXXX"
      }
    },
    {
      "cell_type": "markdown",
      "source": [
        "## Linear Regression Theory\n",
        "\n",
        "Linear regression is a fundamental statistical and machine learning technique used to model the relationship between a dependent variable and one or more independent variables. It assumes a linear relationship between the variables.\n",
        "\n",
        "### The Linear Regression Equation\n",
        "\n",
        "The basic form of a linear regression model is:\n",
        "\n",
        "```\n",
        "y = β₀ + β₁x₁ + β₂x₂ + ... + ε\n",
        "```\n",
        "\n",
        "Where:\n",
        "- `y` is the dependent variable (what we're trying to predict)\n",
        "- `x₁, x₂, ...` are the independent variables (features)\n",
        "- `β₀` is the y-intercept (the value of y when all x's are 0)\n",
        "- `β₁, β₂, ...` are the coefficients (weights) for each independent variable\n",
        "- `ε` is the error term (the difference between the predicted and actual y values)\n",
        "\n",
        "### Key Concepts\n",
        "\n",
        "1. **Best Fit Line**: The goal is to find the line that best fits the data points, minimizing the overall error.\n",
        "2. **Ordinary Least Squares (OLS)**: This is the most common method for estimating the coefficients.\n",
        "3. **Model Evaluation**: We use metrics like R-squared (R²) and Mean Squared Error (MSE) to evaluate the model's performance."
      ],
      "metadata": {
        "id": "7X_Z1RQNXXXX"
      }
    },
    {
      "cell_type": "markdown",
      "source": [
        "## Linear Regression Implementation\n",
        "\n",
        "Let's implement a linear regression model using the House Prices dataset from Kaggle."
      ],
      "metadata": {
        "id": "uC7_8ZJOXXXX"
      }
    },
    {
      "cell_type": "code",
      "execution_count": null,
      "metadata": {
        "id": "first_cell_id"
      },
      "outputs": [],
      "source": [
        "# Install required libraries\n",
        "!pip install pandas numpy matplotlib seaborn scikit-learn"
      ]
    },
    {
      "cell_type": "code",
      "source": [
        "# Import necessary libraries\n",
        "import pandas as pd\n",
        "import numpy as np\n",
        "import matplotlib.pyplot as plt\n",
        "import seaborn as sns\n",
        "from sklearn.model_selection import train_test_split\n",
        "from sklearn.preprocessing import StandardScaler, OneHotEncoder\n",
        "from sklearn.impute import SimpleImputer\n",
        "from sklearn.compose import ColumnTransformer\n",
        "from sklearn.pipeline import Pipeline\n",
        "from sklearn.linear_model import LinearRegression\n",
        "from sklearn.metrics import mean_squared_error, r2_score"
      ],
      "metadata": {
        "id": "second_cell_id"
      },
      "execution_count": null,
      "outputs": []
    },
    {
      "cell_type": "code",
      "source": [
        "# Load the data\n",
        "# Note: You need to upload the train.csv file to your Colab environment or use the Kaggle API\n",
        "train_df = pd.read_csv('train.csv')\n",
        "print(train_df.head())"
      ],
      "metadata": {
        "id": "third_cell_id"
      },
      "execution_count": null,
      "outputs": []
    },
    {
      "cell_type": "code",
      "source": [
        "# Data exploration\n",
        "print(train_df.info())\n",
        "print(train_df.describe())\n",
        "\n",
        "# Visualize the target variable (SalePrice)\n",
        "plt.figure(figsize=(10, 6))\n",
        "sns.histplot(train_df['SalePrice'], kde=True)\n",
        "plt.title('Sale Price Distribution')\n",
        "plt.show()"
      ],
      "metadata": {
        "id": "fourth_cell_id"
      },
      "execution_count": null,
      "outputs": []
    },
    {
      "cell_type": "code",
      "source": [
        "# Preprocessing\n",
        "# Separate features and target\n",
        "X = train_df.drop('SalePrice', axis=1)\n",
        "y = train_df['SalePrice']\n",
        "\n",
        "# Identify numeric and categorical columns\n",
        "numeric_features = X.select_dtypes(include=['int64', 'float64']).columns\n",
        "categorical_features = X.select_dtypes(include=['object']).columns\n",
        "\n",
        "# Create preprocessing steps\n",
        "numeric_transformer = Pipeline(steps=[\n",
        "    ('imputer', SimpleImputer(strategy='mean')),\n",
        "    ('scaler', StandardScaler())\n",
        "])\n",
        "\n",
        "categorical_transformer = Pipeline(steps=[\n",
        "    ('imputer', SimpleImputer(strategy='constant', fill_value='missing')),\n",
        "    ('onehot', OneHotEncoder(handle_unknown='ignore'))\n",
        "])\n",
        "\n",
        "preprocessor = ColumnTransformer(\n",
        "    transformers=[\n",
        "        ('num', numeric_transformer, numeric_features),\n",
        "        ('cat', categorical_transformer, categorical_features)\n",
        "    ])\n",
        "\n",
        "# Create a pipeline\n",
        "model = Pipeline(steps=[('preprocessor', preprocessor),\n",
        "                        ('regressor', LinearRegression())])\n",
        "\n",
        "# Split the data\n",
        "X_train, X_test, y_train, y_test = train_test_split(X, y, test_size=0.2, random_state=42)\n",
        "\n",
        "# Fit the model\n",
        "model.fit(X_train, y_train)\n",
        "\n",
        "# Make predictions\n",
        "y_pred = model.predict(X_test)\n",
        "\n",
        "# Evaluate the model\n",
        "mse = mean_squared_error(y_test, y_pred)\n",
        "r2 = r2_score(y_test, y_pred)\n",
        "\n",
        "print(f\"Mean Squared Error: {mse}\")\n",
        "print(f\"R-squared Score: {r2}\")"
      ],
      "metadata": {
        "id": "fifth_cell_id"
      },
      "execution_count": null,
      "outputs": []
    },
    {
      "cell_type": "code",
      "source": [
        "# Visualize predictions vs actual\n",
        "plt.figure(figsize=(10, 6))\n",
        "plt.scatter(y_test, y_pred, alpha=0.5)\n",
        "plt.plot([y_test.min(), y_test.max()], [y_test.min(), y_test.max()], 'r--', lw=2)\n",
        "plt.xlabel('Actual Prices')\n",
        "plt.ylabel('Predicted Prices')\n",
        "plt.title('Predicted vs Actual House Prices')\n",
        "plt.show()"
      ],
      "metadata": {
        "id": "sixth_cell_id"
      },
      "execution_count": null,
      "outputs": []
    }
  ]
}